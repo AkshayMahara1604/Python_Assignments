{
 "cells": [
  {
   "cell_type": "markdown",
   "id": "dc38b7f7",
   "metadata": {},
   "source": [
    " 1. Write a Python Program to Find the Factorial of a Number?"
   ]
  },
  {
   "cell_type": "code",
   "execution_count": 1,
   "id": "eba2cb69",
   "metadata": {},
   "outputs": [
    {
     "name": "stdout",
     "output_type": "stream",
     "text": [
      "Enter any numer : 12\n",
      "479001600\n"
     ]
    }
   ],
   "source": [
    "a = int(input(\"Enter any numer : \"))\n",
    "for i in range(1, (a)):\n",
    "     \n",
    "    a = a*i\n",
    "print(a)   \n"
   ]
  },
  {
   "cell_type": "markdown",
   "id": "48557136",
   "metadata": {},
   "source": [
    "2. Write a Python Program to Display the multiplication Table?"
   ]
  },
  {
   "cell_type": "code",
   "execution_count": 2,
   "id": "8b7e3bec",
   "metadata": {},
   "outputs": [
    {
     "name": "stdout",
     "output_type": "stream",
     "text": [
      "Enter any number : 17\n",
      "17 x 1 = 17\n",
      "17 x 2 = 34\n",
      "17 x 3 = 51\n",
      "17 x 4 = 68\n",
      "17 x 5 = 85\n",
      "17 x 6 = 102\n",
      "17 x 7 = 119\n",
      "17 x 8 = 136\n",
      "17 x 9 = 153\n",
      "17 x 10 = 170\n"
     ]
    }
   ],
   "source": [
    "a = int(input(\"Enter any number : \"))\n",
    "for i in range(1,11):\n",
    "    print(a,'x',i,\"=\", a*i)"
   ]
  },
  {
   "cell_type": "markdown",
   "id": "c89ec68a",
   "metadata": {},
   "source": [
    " 3. Write a Python Program to Print the Fibonacci sequence?"
   ]
  },
  {
   "cell_type": "code",
   "execution_count": 69,
   "id": "751b12cc",
   "metadata": {},
   "outputs": [
    {
     "name": "stdout",
     "output_type": "stream",
     "text": [
      "Enter the range :10\n",
      "0\n",
      "1\n",
      "1\n",
      "2\n",
      "3\n",
      "5\n",
      "8\n",
      "13\n",
      "21\n",
      "34\n"
     ]
    }
   ],
   "source": [
    "a = int(input(\"Enter the range :\"))\n",
    "c = [0,1]\n",
    "i = range(1,a)\n",
    "print(c[0])\n",
    "for j in i:\n",
    "    \n",
    "    \n",
    "        \n",
    "    c[j] = c[j-1] + c[j-2]\n",
    "    c.append(c[j])\n",
    "    \n",
    "\n",
    "    print(c[j])"
   ]
  },
  {
   "cell_type": "markdown",
   "id": "f68e0409",
   "metadata": {},
   "source": [
    " 4. Write a Python Program to Check Armstrong Number?"
   ]
  },
  {
   "cell_type": "code",
   "execution_count": 77,
   "id": "b2813a2c",
   "metadata": {},
   "outputs": [
    {
     "name": "stdout",
     "output_type": "stream",
     "text": [
      "Enter the number : 1634\n",
      "1634\n",
      "Given number is Armstrong number \n"
     ]
    }
   ],
   "source": [
    "a = input(\"Enter the number : \")\n",
    "c= 0\n",
    "\n",
    "for i in range(0,len(a)):\n",
    "    \n",
    "    c =c +  (int(a[i]))**len(a)\n",
    "print(c)\n",
    "a = int(a)\n",
    "    \n",
    "if a== c :\n",
    "    print(\"Given number is Armstrong number \")\n",
    "else:\n",
    "    print(\"Not an Armstrong number \")\n",
    "        "
   ]
  },
  {
   "cell_type": "markdown",
   "id": "f1bbbba3",
   "metadata": {},
   "source": [
    " 5. Write a Python Program to Find Armstrong Number in an Interval?"
   ]
  },
  {
   "cell_type": "code",
   "execution_count": 74,
   "id": "c1526a80",
   "metadata": {},
   "outputs": [
    {
     "name": "stdout",
     "output_type": "stream",
     "text": [
      "153\n",
      "370\n",
      "371\n",
      "407\n",
      "1634\n",
      "8208\n",
      "9474\n"
     ]
    }
   ],
   "source": [
    "for a in range(100,10000):\n",
    "    \n",
    "    a = str(a)\n",
    "    c = 0\n",
    "    for i in range(0,len(a)):\n",
    "        c =c +  (int(a[i]))**len(a)\n",
    "        \n",
    "    if  c == int(a):\n",
    "    \n",
    "        \n",
    "        print(c)\n",
    "     \n",
    "        \n",
    "        \n",
    "    \n",
    "    "
   ]
  },
  {
   "cell_type": "markdown",
   "id": "526c18e9",
   "metadata": {},
   "source": [
    "\n",
    "6. Write a Python Program to Find the Sum of Natural Numbers?"
   ]
  },
  {
   "cell_type": "code",
   "execution_count": 76,
   "id": "af2b267d",
   "metadata": {},
   "outputs": [
    {
     "name": "stdout",
     "output_type": "stream",
     "text": [
      " Enter the value for which you need sum 50\n",
      "1275\n"
     ]
    }
   ],
   "source": [
    "a =int(input(\" Enter the value for which you need sum \"))\n",
    "if a<0:\n",
    "    print(\"Enter a positive number\")\n",
    "else:\n",
    "    \n",
    "\n",
    "\n",
    "    s = 0        \n",
    "    while a > 0 :\n",
    "        s = s + a\n",
    "        a = a -1\n",
    "    print(s)"
   ]
  },
  {
   "cell_type": "code",
   "execution_count": null,
   "id": "30d20e0e",
   "metadata": {},
   "outputs": [],
   "source": []
  },
  {
   "cell_type": "code",
   "execution_count": null,
   "id": "c0f7e6e5",
   "metadata": {},
   "outputs": [],
   "source": []
  }
 ],
 "metadata": {
  "kernelspec": {
   "display_name": "Python 3 (ipykernel)",
   "language": "python",
   "name": "python3"
  },
  "language_info": {
   "codemirror_mode": {
    "name": "ipython",
    "version": 3
   },
   "file_extension": ".py",
   "mimetype": "text/x-python",
   "name": "python",
   "nbconvert_exporter": "python",
   "pygments_lexer": "ipython3",
   "version": "3.9.7"
  }
 },
 "nbformat": 4,
 "nbformat_minor": 5
}
