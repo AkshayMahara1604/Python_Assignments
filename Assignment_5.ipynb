{
 "cells": [
  {
   "cell_type": "markdown",
   "id": "3a2637be",
   "metadata": {},
   "source": [
    "#1. Write a Python Program to Find LCM?"
   ]
  },
  {
   "cell_type": "code",
   "execution_count": 17,
   "id": "a6a2fc5e",
   "metadata": {},
   "outputs": [
    {
     "name": "stdout",
     "output_type": "stream",
     "text": [
      "Enter the first number :12\n",
      "Enter the second number :14\n",
      "LCM of given two numbers is =  84\n"
     ]
    }
   ],
   "source": [
    "a = int(input(\"Enter the first number :\"))\n",
    "b = int(input(\"Enter the second number :\"))\n",
    "i = 1 \n",
    "while i > 0:\n",
    "    \n",
    "    \n",
    "         \n",
    "    if (a*i)%b ==0 :\n",
    "        print(\"LCM of given two numbers is = \",a*i)\n",
    "        break\n",
    "    else:\n",
    "        i = i + 1\n",
    "        continue"
   ]
  },
  {
   "cell_type": "markdown",
   "id": "cf8e161f",
   "metadata": {},
   "source": [
    " 2. Write a Python Program to Find HCF?"
   ]
  },
  {
   "cell_type": "code",
   "execution_count": 19,
   "id": "b4ef1b28",
   "metadata": {},
   "outputs": [
    {
     "name": "stdout",
     "output_type": "stream",
     "text": [
      "Enter the first number :123\n",
      "Enter the second number :345\n",
      "HCF of the given inputs is =  3\n"
     ]
    }
   ],
   "source": [
    "a = int(input(\"Enter the first number :\"))\n",
    "b = int(input(\"Enter the second number :\"))\n",
    "i = 1\n",
    "c = []\n",
    "while i <= a:\n",
    "    if (a%i==0) and (b%i==0) :\n",
    "        c.append(i)\n",
    "        i = i +1\n",
    "    else:\n",
    "        i = i + 1       \n",
    "print(\"HCF of the given inputs is = \",max(c))"
   ]
  },
  {
   "cell_type": "markdown",
   "id": "ee1568dc",
   "metadata": {},
   "source": [
    " 3. Write a Python Program to Convert Decimal to Binary, Octal and Hexadecimal?"
   ]
  },
  {
   "cell_type": "code",
   "execution_count": 20,
   "id": "c6611f05",
   "metadata": {},
   "outputs": [
    {
     "name": "stdout",
     "output_type": "stream",
     "text": [
      "Enter a number : 100\n",
      "Enter 1 for binary, 2 for Octal and 3 for Hexa decimal 2\n",
      "[1, 4, 4]\n"
     ]
    }
   ],
   "source": [
    "a = int(input(\"Enter a number : \"))\n",
    "b = int(input(\"Enter 1 for binary, 2 for Octal and 3 for Hexa decimal \"))\n",
    "\n",
    "l = []\n",
    "if b ==1:\n",
    "    \n",
    "    while a >0 :\n",
    "        \n",
    "        \n",
    "    \n",
    "        l.append(a%2)\n",
    "        a = a//2\n",
    "    \n",
    "    l.reverse()    \n",
    "    print(l)\n",
    "elif b ==2:\n",
    "    while a > 0 :\n",
    "        l.append(a%8)\n",
    "        a = a//8\n",
    "    l.reverse()\n",
    "    print(l)\n",
    "else:\n",
    "    \n",
    "    while a > 0 :\n",
    "        l.append(a%16)\n",
    "        a = a//16\n",
    "    l.reverse()\n",
    "    \n",
    "    print(l)"
   ]
  },
  {
   "cell_type": "markdown",
   "id": "fc7e9549",
   "metadata": {},
   "source": [
    " 4. Write a Python Program To Find ASCII value of a character?"
   ]
  },
  {
   "cell_type": "code",
   "execution_count": 14,
   "id": "ef7ed0d8",
   "metadata": {},
   "outputs": [
    {
     "name": "stdout",
     "output_type": "stream",
     "text": [
      "Enter the character l\n",
      "The ASCII value of 'l' is 108\n",
      "l\n"
     ]
    }
   ],
   "source": [
    "c = input('Enter the character ')\n",
    "\n",
    "# print the ASCII value of assigned character in c\n",
    "print(\"The ASCII value of '\" + c + \"' is\", ord(c))\n",
    "print(c)"
   ]
  },
  {
   "cell_type": "markdown",
   "id": "20cff8e0",
   "metadata": {},
   "source": [
    " 5. Write a Python Program to Make a Simple Calculator with 4 basic mathematical operations?"
   ]
  },
  {
   "cell_type": "code",
   "execution_count": 5,
   "id": "a704961a",
   "metadata": {},
   "outputs": [
    {
     "name": "stdout",
     "output_type": "stream",
     "text": [
      "Enter the type of calculation :\n",
      "For addition press 1\n",
      "For subtraction  press 2 \n",
      "For multiplication press 3\n",
      "For division press 4 \n",
      "3\n",
      "Enter the first number = 12\n",
      "Enter the second number = 9\n",
      "Multiplication of 12 and 9 = 108\n"
     ]
    }
   ],
   "source": [
    "def add(x,y):\n",
    "    return(x+y)\n",
    "def subtract(x,y):\n",
    "    return(x-y)\n",
    "def multiply(x,y):\n",
    "    return(x*y)\n",
    "def division(x,y):\n",
    "    return(x/y)\n",
    "\n",
    "print(\"Enter the type of calculation :\")\n",
    "print('For addition press 1')\n",
    "print(\"For subtraction  press 2 \")\n",
    "print(\"For multiplication press 3\")\n",
    "print('For division press 4 ')\n",
    "\n",
    "a = int(input())\n",
    "\n",
    "if a == 1:\n",
    "    b = int(input(\"Enter the first number = \"))\n",
    "    c = int(input(\"Enter the second number = \"))\n",
    "    print('Sum of', b,  'and', c ,  '=', add(b,c))\n",
    "elif a == 2:\n",
    "    b = int(input(\"Enter the first number = \"))\n",
    "    c = int(input(\"Enter the second number = \"))\n",
    "    print('Difference  of', b,  'and', c ,  '=', subtract(b,c))\n",
    "    \n",
    "elif a==3:    \n",
    "    b = int(input(\"Enter the first number = \"))\n",
    "    c = int(input(\"Enter the second number = \"))\n",
    "    print('Multiplication of', b,  'and', c ,  '=', multiply(b,c))\n",
    "    \n",
    "else :\n",
    "    b = int(input(\"Enter the first number = \"))\n",
    "    c = int(input(\"Enter the second number = \"))\n",
    "    print('Division  of', b,  'and', c ,  '=', division(b,c))\n",
    "    \n",
    "    \n",
    "    "
   ]
  },
  {
   "cell_type": "code",
   "execution_count": null,
   "id": "a0a925f5",
   "metadata": {},
   "outputs": [],
   "source": []
  },
  {
   "cell_type": "code",
   "execution_count": null,
   "id": "be82fb64",
   "metadata": {},
   "outputs": [],
   "source": []
  },
  {
   "cell_type": "code",
   "execution_count": null,
   "id": "7e8f7c30",
   "metadata": {},
   "outputs": [],
   "source": []
  },
  {
   "cell_type": "code",
   "execution_count": null,
   "id": "3aa45eb4",
   "metadata": {},
   "outputs": [],
   "source": []
  },
  {
   "cell_type": "code",
   "execution_count": null,
   "id": "3b30e05a",
   "metadata": {},
   "outputs": [],
   "source": []
  }
 ],
 "metadata": {
  "kernelspec": {
   "display_name": "Python 3 (ipykernel)",
   "language": "python",
   "name": "python3"
  },
  "language_info": {
   "codemirror_mode": {
    "name": "ipython",
    "version": 3
   },
   "file_extension": ".py",
   "mimetype": "text/x-python",
   "name": "python",
   "nbconvert_exporter": "python",
   "pygments_lexer": "ipython3",
   "version": "3.9.7"
  }
 },
 "nbformat": 4,
 "nbformat_minor": 5
}
