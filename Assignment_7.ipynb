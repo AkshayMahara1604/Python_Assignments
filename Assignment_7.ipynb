{
 "cells": [
  {
   "cell_type": "markdown",
   "id": "ef5e1222",
   "metadata": {},
   "source": [
    "# 1. Write a Python Program to find sum of array?\n"
   ]
  },
  {
   "cell_type": "code",
   "execution_count": 10,
   "id": "bc9f0cce",
   "metadata": {},
   "outputs": [
    {
     "name": "stdout",
     "output_type": "stream",
     "text": [
      "Sum of elemnts of array is \n"
     ]
    },
    {
     "data": {
      "text/plain": [
       "181"
      ]
     },
     "execution_count": 10,
     "metadata": {},
     "output_type": "execute_result"
    }
   ],
   "source": [
    "a =[ 1,2,3,4,45,6,6,7,8,99]\n",
    "def array(a):\n",
    "    print(\"Sum of elemnts of array is \")\n",
    "    return(sum(a))\n",
    "array(a)"
   ]
  },
  {
   "cell_type": "markdown",
   "id": "7deca176",
   "metadata": {},
   "source": [
    "# 2. Write a Python Program to find largest element in an array?"
   ]
  },
  {
   "cell_type": "code",
   "execution_count": 7,
   "id": "4829fcb9",
   "metadata": {},
   "outputs": [
    {
     "name": "stdout",
     "output_type": "stream",
     "text": [
      "Max of the given array is  789\n"
     ]
    }
   ],
   "source": [
    "a = [ 1,34,67,54,23,56,789,98,34,23,678]\n",
    "\n",
    "print(\"Max of the given array is \", max(a))"
   ]
  },
  {
   "cell_type": "markdown",
   "id": "9b6c2fc7",
   "metadata": {},
   "source": [
    "# 3. Write a Python Program for array rotation?"
   ]
  },
  {
   "cell_type": "code",
   "execution_count": 9,
   "id": "6ea38f14",
   "metadata": {},
   "outputs": [
    {
     "name": "stdout",
     "output_type": "stream",
     "text": [
      " For left rotation press 1 \n",
      " For right rotation press 2 1\n",
      "Enter the times of rotation 2\n"
     ]
    },
    {
     "data": {
      "text/plain": [
       "[3, 3, 4, 5, 6, 7, 7, 8, 9, 1, 2]"
      ]
     },
     "execution_count": 9,
     "metadata": {},
     "output_type": "execute_result"
    }
   ],
   "source": [
    "temp_1 = []\n",
    "temp = []\n",
    "x = int(input(\" For left rotation press 1 \\n For right rotation press 2 \"))\n",
    "n = int(input(\"Enter the times of rotation \"))\n",
    "\n",
    "def rotate(a,n):\n",
    "    temp = []\n",
    "    temp_1 = []    \n",
    "    if x == 1 :\n",
    "        \n",
    "        for i in range (n, len(a)):\n",
    "            temp.append(a[i])\n",
    "            \n",
    "        for j in range(0, n):\n",
    "            temp_1.append(a[j])\n",
    "        return temp + temp_1\n",
    "    elif x == 2:\n",
    "        temp = []\n",
    "        for i in range (-len(a), -n ):\n",
    "            temp.append(a[i])\n",
    "        for j in range(-n , 0):\n",
    "            temp_1.append(a[j])\n",
    "        return temp_1  + temp\n",
    "    \n",
    "    end\n",
    "    \n",
    "    \n",
    "a = [ 1,2, 3,3 ,4,5,6,7,7,8,9]\n",
    "rotate(a,n) "
   ]
  },
  {
   "cell_type": "markdown",
   "id": "cb945c25",
   "metadata": {},
   "source": [
    "# 4. Write a Python Program to Split the array and add the first part to the end?"
   ]
  },
  {
   "cell_type": "code",
   "execution_count": 11,
   "id": "ed91d615",
   "metadata": {},
   "outputs": [
    {
     "name": "stdout",
     "output_type": "stream",
     "text": [
      "Enter the splitting index 3\n"
     ]
    },
    {
     "data": {
      "text/plain": [
       "[3, 4, 5, 6, 7, 7, 8, 9, 1, 2]"
      ]
     },
     "execution_count": 11,
     "metadata": {},
     "output_type": "execute_result"
    }
   ],
   "source": [
    "n = int(input(\"Enter the splitting index \"))\n",
    "def rotate(a,n):\n",
    "    temp_1=[]\n",
    "    temp = []\n",
    "    for i in range (n, (len(a))):\n",
    "        temp.append(a[i])\n",
    "    for j in range(0, n-1):\n",
    "        temp_1.append(a[j])\n",
    "    return temp + temp_1\n",
    "\n",
    "a = [ 1,2, 3,3 ,4,5,6,7,7,8,9]\n",
    "rotate(a,n)  "
   ]
  },
  {
   "cell_type": "markdown",
   "id": "4f0a1728",
   "metadata": {},
   "source": [
    "# 5. Write a Python Program to check if given array is Monotonic?"
   ]
  },
  {
   "cell_type": "code",
   "execution_count": 36,
   "id": "b45b33fc",
   "metadata": {},
   "outputs": [
    {
     "name": "stdout",
     "output_type": "stream",
     "text": [
      "Is it a monotonic ?  True\n"
     ]
    }
   ],
   "source": [
    "a = [1,2,3,4,5,5,6]\n",
    "result = (all(a[i] <= a[i+1] for i in range(len(a)-1)) or all(a[i]>=a[i+1] for i in range(len(a)-1)))\n",
    "\n",
    "\n",
    "print(\"Is it a monotonic ? \", result)"
   ]
  },
  {
   "cell_type": "code",
   "execution_count": null,
   "id": "f16f9621",
   "metadata": {},
   "outputs": [],
   "source": []
  }
 ],
 "metadata": {
  "kernelspec": {
   "display_name": "Python 3 (ipykernel)",
   "language": "python",
   "name": "python3"
  },
  "language_info": {
   "codemirror_mode": {
    "name": "ipython",
    "version": 3
   },
   "file_extension": ".py",
   "mimetype": "text/x-python",
   "name": "python",
   "nbconvert_exporter": "python",
   "pygments_lexer": "ipython3",
   "version": "3.9.7"
  }
 },
 "nbformat": 4,
 "nbformat_minor": 5
}
