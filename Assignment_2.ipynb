{
 "cells": [
  {
   "cell_type": "markdown",
   "id": "11b664a3",
   "metadata": {},
   "source": [
    " 1. Write a Python program to convert kilometers to miles?"
   ]
  },
  {
   "cell_type": "code",
   "execution_count": 1,
   "id": "5bf88e38",
   "metadata": {},
   "outputs": [
    {
     "name": "stdout",
     "output_type": "stream",
     "text": [
      "Enter the value in kilometers = 23\n",
      "Value of given input in miles =  14.291533\n"
     ]
    }
   ],
   "source": [
    "a = int(input(\"Enter the value in kilometers = \"))\n",
    "print(\"Value of given input in miles = \", a*0.621371)"
   ]
  },
  {
   "cell_type": "markdown",
   "id": "e1e24b93",
   "metadata": {},
   "source": [
    " 2. Write a Python program to convert Celsius to Fahrenheit?"
   ]
  },
  {
   "cell_type": "code",
   "execution_count": 3,
   "id": "b5e65e8d",
   "metadata": {},
   "outputs": [
    {
     "name": "stdout",
     "output_type": "stream",
     "text": [
      "Enter the value in Celcius= 56\n",
      " Value of given input in Farenheit =  132.8\n"
     ]
    }
   ],
   "source": [
    "c = int(input(\"Enter the value in Celcius= \"))\n",
    "print(\" Value of given input in Farenheit = \", (c*9/5)+ 32)"
   ]
  },
  {
   "cell_type": "markdown",
   "id": "0edf2dbe",
   "metadata": {},
   "source": [
    " 3. Write a Python program to display calendar?"
   ]
  },
  {
   "cell_type": "code",
   "execution_count": 19,
   "id": "ca996db3",
   "metadata": {},
   "outputs": [
    {
     "name": "stdout",
     "output_type": "stream",
     "text": [
      "                                  2021\n",
      "\n",
      "      January                   February                   March\n",
      "Mo Tu We Th Fr Sa Su      Mo Tu We Th Fr Sa Su      Mo Tu We Th Fr Sa Su\n",
      "             1  2  3       1  2  3  4  5  6  7       1  2  3  4  5  6  7\n",
      " 4  5  6  7  8  9 10       8  9 10 11 12 13 14       8  9 10 11 12 13 14\n",
      "11 12 13 14 15 16 17      15 16 17 18 19 20 21      15 16 17 18 19 20 21\n",
      "18 19 20 21 22 23 24      22 23 24 25 26 27 28      22 23 24 25 26 27 28\n",
      "25 26 27 28 29 30 31                                29 30 31\n",
      "\n",
      "       April                      May                       June\n",
      "Mo Tu We Th Fr Sa Su      Mo Tu We Th Fr Sa Su      Mo Tu We Th Fr Sa Su\n",
      "          1  2  3  4                      1  2          1  2  3  4  5  6\n",
      " 5  6  7  8  9 10 11       3  4  5  6  7  8  9       7  8  9 10 11 12 13\n",
      "12 13 14 15 16 17 18      10 11 12 13 14 15 16      14 15 16 17 18 19 20\n",
      "19 20 21 22 23 24 25      17 18 19 20 21 22 23      21 22 23 24 25 26 27\n",
      "26 27 28 29 30            24 25 26 27 28 29 30      28 29 30\n",
      "                          31\n",
      "\n",
      "        July                     August                  September\n",
      "Mo Tu We Th Fr Sa Su      Mo Tu We Th Fr Sa Su      Mo Tu We Th Fr Sa Su\n",
      "          1  2  3  4                         1             1  2  3  4  5\n",
      " 5  6  7  8  9 10 11       2  3  4  5  6  7  8       6  7  8  9 10 11 12\n",
      "12 13 14 15 16 17 18       9 10 11 12 13 14 15      13 14 15 16 17 18 19\n",
      "19 20 21 22 23 24 25      16 17 18 19 20 21 22      20 21 22 23 24 25 26\n",
      "26 27 28 29 30 31         23 24 25 26 27 28 29      27 28 29 30\n",
      "                          30 31\n",
      "\n",
      "      October                   November                  December\n",
      "Mo Tu We Th Fr Sa Su      Mo Tu We Th Fr Sa Su      Mo Tu We Th Fr Sa Su\n",
      "             1  2  3       1  2  3  4  5  6  7             1  2  3  4  5\n",
      " 4  5  6  7  8  9 10       8  9 10 11 12 13 14       6  7  8  9 10 11 12\n",
      "11 12 13 14 15 16 17      15 16 17 18 19 20 21      13 14 15 16 17 18 19\n",
      "18 19 20 21 22 23 24      22 23 24 25 26 27 28      20 21 22 23 24 25 26\n",
      "25 26 27 28 29 30 31      29 30                     27 28 29 30 31\n",
      "\n"
     ]
    }
   ],
   "source": [
    "import calendar\n",
    "\n",
    "yy =2021\n",
    "\n",
    "print(calendar.calendar(yy))"
   ]
  },
  {
   "cell_type": "markdown",
   "id": "7ebccd38",
   "metadata": {},
   "source": [
    " 4. Write a Python program to solve quadratic equation?"
   ]
  },
  {
   "cell_type": "code",
   "execution_count": 20,
   "id": "d01d356f",
   "metadata": {},
   "outputs": [
    {
     "name": "stdout",
     "output_type": "stream",
     "text": [
      "Enter the value of cofficient a = 5\n",
      "Enter the value of coffiecient b = 2\n",
      "Enter the value of cofficient c = 1\n",
      "Solution of given quadratic equations are =  ((-0.2+0.4j), (-0.2-0.4j))\n"
     ]
    }
   ],
   "source": [
    "# a*x^2 + b*x + c = 0 general form of quadratic equation\n",
    "import math  # importing library math\n",
    "a = (int(input(\"Enter the value of cofficient a = \")))\n",
    "b = (int(input(\"Enter the value of coffiecient b = \")))\n",
    "c = (int(input(\"Enter the value of cofficient c = \")))\n",
    "\n",
    "z= (b*b - 4*a*c)\n",
    "d= math.sqrt(abs(b*b -  4*a*c))\n",
    "\n",
    "if z > 0 :\n",
    "    x = (-b + d)*1/(2*a) , (-b - d)*1/(2*a)\n",
    "    \n",
    "elif z == 0 :\n",
    "    x =  -b/(2*a) , -b/(2*a)\n",
    "    \n",
    "else :\n",
    "    d = math.sqrt(-(b*b - 4*a*c))\n",
    "    \n",
    "    x =  (-b/(2*a)) + (d/(2*a))*(1j) , (-b/(2*a)) - (d/(2*a))*(1j)\n",
    "print(\"Solution of given quadratic equations are = \", x)"
   ]
  },
  {
   "cell_type": "markdown",
   "id": "bfd39429",
   "metadata": {},
   "source": [
    " 5. Write a Python program to swap two variables without temp variable?\n",
    "\n",
    "\n",
    "            "
   ]
  },
  {
   "cell_type": "code",
   "execution_count": 10,
   "id": "e83c4bfa",
   "metadata": {},
   "outputs": [
    {
     "name": "stdout",
     "output_type": "stream",
     "text": [
      " Value of a and b  30 20\n"
     ]
    }
   ],
   "source": [
    "a = 20  # assigning two variables a and b\n",
    "b = 30 \n",
    "a , b = b , a  # swapping values of variable a and b \n",
    "print(\" Value of a and b \", a, b)\n"
   ]
  },
  {
   "cell_type": "code",
   "execution_count": null,
   "id": "17857e5d",
   "metadata": {},
   "outputs": [],
   "source": []
  },
  {
   "cell_type": "code",
   "execution_count": null,
   "id": "0056d9de",
   "metadata": {},
   "outputs": [],
   "source": []
  },
  {
   "cell_type": "code",
   "execution_count": null,
   "id": "dd45a438",
   "metadata": {},
   "outputs": [],
   "source": []
  }
 ],
 "metadata": {
  "kernelspec": {
   "display_name": "Python 3 (ipykernel)",
   "language": "python",
   "name": "python3"
  },
  "language_info": {
   "codemirror_mode": {
    "name": "ipython",
    "version": 3
   },
   "file_extension": ".py",
   "mimetype": "text/x-python",
   "name": "python",
   "nbconvert_exporter": "python",
   "pygments_lexer": "ipython3",
   "version": "3.9.7"
  }
 },
 "nbformat": 4,
 "nbformat_minor": 5
}
