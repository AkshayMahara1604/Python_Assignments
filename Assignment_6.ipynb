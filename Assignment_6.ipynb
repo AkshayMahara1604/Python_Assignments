{
 "cells": [
  {
   "cell_type": "markdown",
   "id": "00810d95",
   "metadata": {},
   "source": [
    " 1. Write a Python Program to Display Fibonacci Sequence Using Recursion?"
   ]
  },
  {
   "cell_type": "code",
   "execution_count": 1,
   "id": "e598248b",
   "metadata": {},
   "outputs": [
    {
     "name": "stdout",
     "output_type": "stream",
     "text": [
      "Enter the number of terms in series : 10\n",
      "0\n",
      "1\n",
      "1\n",
      "2\n",
      "3\n",
      "5\n",
      "8\n",
      "13\n",
      "21\n",
      "34\n"
     ]
    }
   ],
   "source": [
    "def fibo(n):  \n",
    "   if n <= 1:  \n",
    "       return n  \n",
    "   else:  \n",
    "       return(fibo(n-1) + fibo(n-2)) \n",
    "    \n",
    "    \n",
    "a = int(input(\"Enter the number of terms in series : \")) \n",
    "if a <=0:\n",
    "    print(\"Enter a positive number \")\n",
    "else:\n",
    "    for i in range(a):\n",
    "        print(fibo(i))"
   ]
  },
  {
   "cell_type": "markdown",
   "id": "1beee78c",
   "metadata": {},
   "source": [
    " 2. Write a Python Program to Find Factorial of Number Using Recursion?"
   ]
  },
  {
   "cell_type": "code",
   "execution_count": 3,
   "id": "02917004",
   "metadata": {},
   "outputs": [
    {
     "name": "stdout",
     "output_type": "stream",
     "text": [
      "Enter the number : 7\n",
      "5040\n"
     ]
    }
   ],
   "source": [
    "def fact(n):\n",
    "    if n == 0:\n",
    "        return(1)\n",
    "    elif n > 0:\n",
    "        f = n*fact(n-1)\n",
    "        \n",
    "        return(f)\n",
    "n = int(input(\"Enter the number : \"))\n",
    "print(fact(n))\n"
   ]
  },
  {
   "cell_type": "markdown",
   "id": "9cc6a27d",
   "metadata": {},
   "source": [
    "3. Write a Python Program to calculate your Body Mass Index?"
   ]
  },
  {
   "cell_type": "code",
   "execution_count": 5,
   "id": "81b0b777",
   "metadata": {},
   "outputs": [
    {
     "name": "stdout",
     "output_type": "stream",
     "text": [
      "Enter your weight in kilograms 60\n",
      "Enter your height in meters 1.65\n",
      "BMI of your body is  22.04\n"
     ]
    }
   ],
   "source": [
    "a = float(input('Enter your weight in kilograms '))\n",
    "b = float(input('Enter your height in meters '))\n",
    "\n",
    "print('BMI of your body is ',round((a/(b**2)),2) )"
   ]
  },
  {
   "cell_type": "markdown",
   "id": "8d42bea7",
   "metadata": {},
   "source": [
    " 5. Write a Python Program for cube sum of first n natural numbers?"
   ]
  },
  {
   "cell_type": "code",
   "execution_count": 6,
   "id": "75b5cce3",
   "metadata": {},
   "outputs": [
    {
     "name": "stdout",
     "output_type": "stream",
     "text": [
      "Enter the value for cube sum  12\n",
      "6084\n"
     ]
    }
   ],
   "source": [
    "def cube(n):\n",
    "    if n ==1 or n ==0 :\n",
    "        return(n)\n",
    "    elif n >1:\n",
    "        result = n**3 + cube(n-1)\n",
    "        return(result)\n",
    "n = int(input(\"Enter the value for cube sum  \"))\n",
    "print(cube(n))\n",
    "    "
   ]
  },
  {
   "cell_type": "code",
   "execution_count": null,
   "id": "cb899f4a",
   "metadata": {},
   "outputs": [],
   "source": []
  }
 ],
 "metadata": {
  "kernelspec": {
   "display_name": "Python 3 (ipykernel)",
   "language": "python",
   "name": "python3"
  },
  "language_info": {
   "codemirror_mode": {
    "name": "ipython",
    "version": 3
   },
   "file_extension": ".py",
   "mimetype": "text/x-python",
   "name": "python",
   "nbconvert_exporter": "python",
   "pygments_lexer": "ipython3",
   "version": "3.9.7"
  }
 },
 "nbformat": 4,
 "nbformat_minor": 5
}
