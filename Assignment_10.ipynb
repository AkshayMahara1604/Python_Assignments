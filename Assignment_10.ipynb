{
 "cells": [
  {
   "cell_type": "markdown",
   "id": "6deac7c2",
   "metadata": {},
   "source": [
    "## 1. Write a Python program to find sum of elements in list?"
   ]
  },
  {
   "cell_type": "code",
   "execution_count": 5,
   "id": "8f221d42",
   "metadata": {},
   "outputs": [
    {
     "data": {
      "text/plain": [
       "55"
      ]
     },
     "execution_count": 5,
     "metadata": {},
     "output_type": "execute_result"
    }
   ],
   "source": [
    "a = [ 1,2,3,44,5]\n",
    "sum(a)"
   ]
  },
  {
   "cell_type": "markdown",
   "id": "cbbd11fc",
   "metadata": {},
   "source": [
    "## 2. Write a Python program to Multiply all numbers in the list?"
   ]
  },
  {
   "cell_type": "code",
   "execution_count": 6,
   "id": "7afe6441",
   "metadata": {},
   "outputs": [],
   "source": [
    "\n",
    "def cross(a):\n",
    "    \n",
    "    prod = 1\n",
    "    for i in a :\n",
    "        prod = prod*i\n",
    "    return prod\n",
    "\n"
   ]
  },
  {
   "cell_type": "code",
   "execution_count": 3,
   "id": "1e00fbc2",
   "metadata": {},
   "outputs": [
    {
     "data": {
      "text/plain": [
       "72"
      ]
     },
     "execution_count": 3,
     "metadata": {},
     "output_type": "execute_result"
    }
   ],
   "source": [
    "cross([1,2,3,4,3])"
   ]
  },
  {
   "cell_type": "markdown",
   "id": "ec90d410",
   "metadata": {},
   "source": [
    "## 3. Write a Python program to find smallest number in a list?"
   ]
  },
  {
   "cell_type": "code",
   "execution_count": 7,
   "id": "1a6ca72f",
   "metadata": {},
   "outputs": [],
   "source": [
    "def min(a):\n",
    "    m = a[0]\n",
    "    for i in a :\n",
    "        if m >= i:\n",
    "            m = i\n",
    "        else:\n",
    "            m = m\n",
    "    return m       \n",
    "            "
   ]
  },
  {
   "cell_type": "code",
   "execution_count": 8,
   "id": "13fe5cb9",
   "metadata": {},
   "outputs": [
    {
     "data": {
      "text/plain": [
       "-1"
      ]
     },
     "execution_count": 8,
     "metadata": {},
     "output_type": "execute_result"
    }
   ],
   "source": [
    "min([2,3,1,6,4,0,-1])"
   ]
  },
  {
   "cell_type": "markdown",
   "id": "2f561350",
   "metadata": {},
   "source": [
    "## 4. Write a Python program to find largest number in a list?"
   ]
  },
  {
   "cell_type": "code",
   "execution_count": 9,
   "id": "fe421387",
   "metadata": {},
   "outputs": [],
   "source": [
    "def max(a):\n",
    "    m = a[0]\n",
    "    n = a[0]\n",
    "    for i in a :\n",
    "        if m <= i:\n",
    "            m = i\n",
    "        else:\n",
    "            m = m\n",
    "    \n",
    "    return m       \n",
    "            "
   ]
  },
  {
   "cell_type": "code",
   "execution_count": 10,
   "id": "6af655ac",
   "metadata": {},
   "outputs": [
    {
     "data": {
      "text/plain": [
       "45"
      ]
     },
     "execution_count": 10,
     "metadata": {},
     "output_type": "execute_result"
    }
   ],
   "source": [
    "max([1,2,4,6,45,7,8])"
   ]
  },
  {
   "cell_type": "markdown",
   "id": "b77103df",
   "metadata": {},
   "source": [
    "## 5. Write a Python program to find second largest number in a list?"
   ]
  },
  {
   "cell_type": "code",
   "execution_count": 11,
   "id": "efe01d30",
   "metadata": {},
   "outputs": [],
   "source": [
    "def max_2(a):\n",
    "    a.sort()\n",
    "    print(a[len(a)-2])\n",
    "     "
   ]
  },
  {
   "cell_type": "code",
   "execution_count": 12,
   "id": "19268091",
   "metadata": {},
   "outputs": [
    {
     "name": "stdout",
     "output_type": "stream",
     "text": [
      "45\n"
     ]
    }
   ],
   "source": [
    "max_2([1,2,3,4,5,9,4,6,8,4,49,45])"
   ]
  },
  {
   "cell_type": "markdown",
   "id": "d8c92f6b",
   "metadata": {},
   "source": [
    "## 6. Write a Python program to find N largest elements from a list?"
   ]
  },
  {
   "cell_type": "code",
   "execution_count": 15,
   "id": "2baee9af",
   "metadata": {},
   "outputs": [],
   "source": [
    "def nlarge(a):\n",
    "    a.sort()\n",
    "    n = int(input(\"Enter the value of N =\"))\n",
    "    for i in range(len(a)-n,len(a)):\n",
    "        print(a[i])\n",
    "    "
   ]
  },
  {
   "cell_type": "code",
   "execution_count": 16,
   "id": "7e2c1ae6",
   "metadata": {},
   "outputs": [
    {
     "name": "stdout",
     "output_type": "stream",
     "text": [
      "Enter the value of N 4\n",
      "9\n",
      "13\n",
      "45\n",
      "78\n"
     ]
    }
   ],
   "source": [
    "nlarge([9,8,7,6,5,4,3,13,45,78])"
   ]
  },
  {
   "cell_type": "markdown",
   "id": "77d1af53",
   "metadata": {},
   "source": [
    "## 7. Write a Python program to print even numbers in a list?"
   ]
  },
  {
   "cell_type": "code",
   "execution_count": 17,
   "id": "69636c99",
   "metadata": {},
   "outputs": [],
   "source": [
    "def even(a):\n",
    "    for i in a :\n",
    "        if i%2==0:\n",
    "            print(i)\n",
    "            \n",
    "            "
   ]
  },
  {
   "cell_type": "code",
   "execution_count": 18,
   "id": "22df29be",
   "metadata": {},
   "outputs": [
    {
     "name": "stdout",
     "output_type": "stream",
     "text": [
      "2\n",
      "4\n",
      "6\n",
      "8\n",
      "2\n"
     ]
    }
   ],
   "source": [
    "even([1,2,4,5,6,7,8,2])"
   ]
  },
  {
   "cell_type": "markdown",
   "id": "b9e1fb6e",
   "metadata": {},
   "source": [
    "## 8. Write a Python program to print odd numbers in a List?"
   ]
  },
  {
   "cell_type": "code",
   "execution_count": 19,
   "id": "4dda3b76",
   "metadata": {},
   "outputs": [],
   "source": [
    "def odd(a):\n",
    "    for i in a :\n",
    "        if i%2!=0:\n",
    "            print(i)"
   ]
  },
  {
   "cell_type": "code",
   "execution_count": 20,
   "id": "e95d80ea",
   "metadata": {},
   "outputs": [
    {
     "name": "stdout",
     "output_type": "stream",
     "text": [
      "1\n",
      "3\n",
      "5\n",
      "7\n",
      "7\n",
      "9\n"
     ]
    }
   ],
   "source": [
    "odd([1,2,3,4,5,6,7,7,8,9])"
   ]
  },
  {
   "cell_type": "markdown",
   "id": "420d5826",
   "metadata": {},
   "source": [
    "## 9. Write a Python program to Remove empty List from List?"
   ]
  },
  {
   "cell_type": "code",
   "execution_count": 21,
   "id": "869cc364",
   "metadata": {},
   "outputs": [],
   "source": [
    "def empty(a):\n",
    "    b = []\n",
    "    for i in range(len(a)):\n",
    "        if len(a[i])!=0:\n",
    "            b.append(a[i])\n",
    "        else:\n",
    "            continue\n",
    "    return b           \n",
    "            "
   ]
  },
  {
   "cell_type": "code",
   "execution_count": 22,
   "id": "026c179a",
   "metadata": {},
   "outputs": [
    {
     "data": {
      "text/plain": [
       "[[1, 2, 3], [4, 5, 6, 7], [3, 4, 5]]"
      ]
     },
     "execution_count": 22,
     "metadata": {},
     "output_type": "execute_result"
    }
   ],
   "source": [
    "empty([[1,2,3],[4,5,6,7],[],[3,4,5]])"
   ]
  },
  {
   "cell_type": "markdown",
   "id": "a5f1c8c0",
   "metadata": {},
   "source": [
    "## 10. Write a Python program to Cloning or Copying a list?"
   ]
  },
  {
   "cell_type": "code",
   "execution_count": 23,
   "id": "3c8adb8b",
   "metadata": {},
   "outputs": [],
   "source": [
    "def clone(a):\n",
    "    b = []\n",
    "    for i in a:\n",
    "        b.append(i)\n",
    "    return b        "
   ]
  },
  {
   "cell_type": "code",
   "execution_count": 24,
   "id": "02938a38",
   "metadata": {},
   "outputs": [
    {
     "data": {
      "text/plain": [
       "[[1, 2, 3], [4, 5, 6, 7], [], [3, 4, 5]]"
      ]
     },
     "execution_count": 24,
     "metadata": {},
     "output_type": "execute_result"
    }
   ],
   "source": [
    "clone([[1,2,3],[4,5,6,7],[],[3,4,5]])"
   ]
  },
  {
   "cell_type": "markdown",
   "id": "8ff4aa33",
   "metadata": {},
   "source": [
    "## 11. Write a Python program to Count occurrences of an element in a list?"
   ]
  },
  {
   "cell_type": "code",
   "execution_count": 40,
   "id": "48cad917",
   "metadata": {},
   "outputs": [],
   "source": [
    "z =[]\n",
    "def count(a):\n",
    "    \n",
    "    \n",
    "\n",
    "    \n",
    "    for i in a:\n",
    "        x = i\n",
    "        count=0\n",
    "        if x in z:\n",
    "            continue\n",
    "        else:\n",
    "            z.append(x)\n",
    "            for k in a:\n",
    "                \n",
    "                if x == k:\n",
    "                    count= count + 1\n",
    "                else :\n",
    "                    continue\n",
    "            print(x, \"= \", count)\n",
    "        \n",
    "        "
   ]
  },
  {
   "cell_type": "code",
   "execution_count": 41,
   "id": "17c7c436",
   "metadata": {},
   "outputs": [
    {
     "name": "stdout",
     "output_type": "stream",
     "text": [
      "1 =  3\n",
      "32 =  2\n",
      "3 =  2\n",
      "2 =  1\n",
      "4 =  3\n",
      "5 =  2\n",
      "6 =  1\n",
      "100 =  3\n"
     ]
    }
   ],
   "source": [
    "a =[1,32,3,3,2,1,4,5,6,5,4,4,32,1,100,100,100]\n",
    "count(a)\n"
   ]
  },
  {
   "cell_type": "code",
   "execution_count": null,
   "id": "d140a46f",
   "metadata": {},
   "outputs": [],
   "source": []
  },
  {
   "cell_type": "code",
   "execution_count": null,
   "id": "6d4b8c42",
   "metadata": {},
   "outputs": [],
   "source": [
    " \n",
    "            "
   ]
  },
  {
   "cell_type": "code",
   "execution_count": null,
   "id": "24a9a785",
   "metadata": {},
   "outputs": [],
   "source": []
  },
  {
   "cell_type": "code",
   "execution_count": null,
   "id": "ee19e0a8",
   "metadata": {},
   "outputs": [],
   "source": []
  },
  {
   "cell_type": "code",
   "execution_count": null,
   "id": "74e83ddf",
   "metadata": {},
   "outputs": [],
   "source": []
  },
  {
   "cell_type": "code",
   "execution_count": null,
   "id": "9cbec3d8",
   "metadata": {},
   "outputs": [],
   "source": []
  },
  {
   "cell_type": "code",
   "execution_count": null,
   "id": "358caaec",
   "metadata": {},
   "outputs": [],
   "source": []
  }
 ],
 "metadata": {
  "kernelspec": {
   "display_name": "Python 3 (ipykernel)",
   "language": "python",
   "name": "python3"
  },
  "language_info": {
   "codemirror_mode": {
    "name": "ipython",
    "version": 3
   },
   "file_extension": ".py",
   "mimetype": "text/x-python",
   "name": "python",
   "nbconvert_exporter": "python",
   "pygments_lexer": "ipython3",
   "version": "3.9.7"
  }
 },
 "nbformat": 4,
 "nbformat_minor": 5
}
